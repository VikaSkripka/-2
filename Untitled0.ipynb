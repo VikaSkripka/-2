{
  "nbformat": 4,
  "nbformat_minor": 0,
  "metadata": {
    "colab": {
      "provenance": []
    },
    "kernelspec": {
      "name": "python3",
      "display_name": "Python 3"
    },
    "language_info": {
      "name": "python"
    }
  },
  "cells": [
    {
      "cell_type": "code",
      "execution_count": 12,
      "metadata": {
        "colab": {
          "base_uri": "https://localhost:8080/"
        },
        "id": "GtE6P-u6T9XA",
        "outputId": "bb73929f-2c10-4ecc-abf7-f127dd44b652"
      },
      "outputs": [
        {
          "output_type": "stream",
          "name": "stdout",
          "text": [
            "Введите имя:Вика\n",
            "Введите фамилию:Скрипка\n",
            "Вика\n",
            "Скрипка\n",
            "Введите отчество:Игоревна\n",
            "Игоревна\n",
            "Сколько вам лет?19\n",
            "19\n",
            "Где вы живете?Михайловск\n",
            "Михайловск\n"
          ]
        }
      ],
      "source": [
        "x=input(\"Введите имя:\")\n",
        "y=input(\"Введите фамилию:\")\n",
        "print(x)\n",
        "print(y)\n",
        "p=input(\"Введите отчество:\")\n",
        "print(p)\n",
        "z=input(\"Сколько вам лет?\")\n",
        "print(z)\n",
        "r=input(\"Где вы живете?\")\n",
        "print(r)\n"
      ]
    }
  ]
}